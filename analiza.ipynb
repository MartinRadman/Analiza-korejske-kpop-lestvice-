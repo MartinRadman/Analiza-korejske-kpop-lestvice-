{
 "cells": [
  {
   "cell_type": "markdown",
   "id": "86376b99",
   "metadata": {},
   "source": [
    "# Analiza tedenske kpop lestvice radia KBS\n",
    "\n",
    "V tem dokumentu se nahaja analiza tedenske glasbene lestvice, ki se nahaja [na tej spletni strani](http://world.kbs.co.kr/service/musictop10.htm?lang=e). Omenjena spletna stran vsak teden objavi 10 najbolj popularnih pesmi iz zvrsti korejskega popa, zraven pa pogosto še vključi link do predstavitve izvajalca, kjer lahko najdemo podatke kot so leto debitiranja, založbe pod katere spada, kratek opis izvajalca in tudi seznam članov v primeru, ko gre za skupino, in ne za solista. Žal pa je kakšen izmed teh podatkov pogosto izpuščen, zato niso vsi vnosi popolni. Kaj takega nas pa seveda ne bo ustavilo, saj je z danimi podatki neka konkretna analiza še kar mogoča. Obravnavali bomo časovno obdobje 2015-2020."
   ]
  },
  {
   "cell_type": "markdown",
   "id": "2b3b3810",
   "metadata": {},
   "source": [
    "# Tehnično ozadje\n",
    "\n",
    "Enostavno je opaziti vzorec v URL-naslovih lestvic za posamezni teden. Napisal sem skripto, ki zgenerira vse želene URL-naslove, potem sem pa z orodji iz [profesorjevega repozitorija](https://github.com/matijapretnar/programiranje-1/blob/master/02-zajem-podatkov/predavanja/orodja.py) shranil vse strani, iz njih z uporabo regularnih izrazov in Pythonove knjižnice re izluščil želene podatke in jih spet s pomočjo profesorjevih orodij shranil v posamezne csv datoteke."
   ]
  },
  {
   "cell_type": "markdown",
   "id": "debfc674",
   "metadata": {},
   "source": [
    "# Uvoz podatkov\n",
    "\n",
    "Začnimo z uvozom zbranih podatkov."
   ]
  },
  {
   "cell_type": "code",
   "execution_count": 1,
   "id": "5b712461",
   "metadata": {},
   "outputs": [
    {
     "data": {
      "text/html": [
       "<div>\n",
       "<style scoped>\n",
       "    .dataframe tbody tr th:only-of-type {\n",
       "        vertical-align: middle;\n",
       "    }\n",
       "\n",
       "    .dataframe tbody tr th {\n",
       "        vertical-align: top;\n",
       "    }\n",
       "\n",
       "    .dataframe thead th {\n",
       "        text-align: right;\n",
       "    }\n",
       "</style>\n",
       "<table border=\"1\" class=\"dataframe\">\n",
       "  <thead>\n",
       "    <tr style=\"text-align: right;\">\n",
       "      <th></th>\n",
       "      <th>datum</th>\n",
       "      <th>mesto</th>\n",
       "      <th>naslov</th>\n",
       "      <th>sifra_umetnika</th>\n",
       "    </tr>\n",
       "  </thead>\n",
       "  <tbody>\n",
       "    <tr>\n",
       "      <th>0</th>\n",
       "      <td>2015-01-11</td>\n",
       "      <td>1</td>\n",
       "      <td>December, 2014 (The Winter`s Tale)</td>\n",
       "      <td>352301.0</td>\n",
       "    </tr>\n",
       "    <tr>\n",
       "      <th>1</th>\n",
       "      <td>2015-01-11</td>\n",
       "      <td>2</td>\n",
       "      <td>LUV</td>\n",
       "      <td>343777.0</td>\n",
       "    </tr>\n",
       "    <tr>\n",
       "      <th>2</th>\n",
       "      <td>2015-01-11</td>\n",
       "      <td>3</td>\n",
       "      <td>울면 안 돼</td>\n",
       "      <td>343790.0</td>\n",
       "    </tr>\n",
       "    <tr>\n",
       "      <th>3</th>\n",
       "      <td>2015-01-11</td>\n",
       "      <td>4</td>\n",
       "      <td>UP &amp; DOWN</td>\n",
       "      <td>235496.0</td>\n",
       "    </tr>\n",
       "    <tr>\n",
       "      <th>4</th>\n",
       "      <td>2015-01-11</td>\n",
       "      <td>5</td>\n",
       "      <td>At Gwanghwamun</td>\n",
       "      <td>386080.0</td>\n",
       "    </tr>\n",
       "    <tr>\n",
       "      <th>...</th>\n",
       "      <td>...</td>\n",
       "      <td>...</td>\n",
       "      <td>...</td>\n",
       "      <td>...</td>\n",
       "    </tr>\n",
       "    <tr>\n",
       "      <th>3063</th>\n",
       "      <td>2020-12-20</td>\n",
       "      <td>6</td>\n",
       "      <td>Given-Taken</td>\n",
       "      <td>395837.0</td>\n",
       "    </tr>\n",
       "    <tr>\n",
       "      <th>3064</th>\n",
       "      <td>2020-12-20</td>\n",
       "      <td>7</td>\n",
       "      <td>Love should not be harsh on you</td>\n",
       "      <td>393964.0</td>\n",
       "    </tr>\n",
       "    <tr>\n",
       "      <th>3065</th>\n",
       "      <td>2020-12-20</td>\n",
       "      <td>8</td>\n",
       "      <td>Lovesick Girls</td>\n",
       "      <td>389341.0</td>\n",
       "    </tr>\n",
       "    <tr>\n",
       "      <th>3066</th>\n",
       "      <td>2020-12-20</td>\n",
       "      <td>9</td>\n",
       "      <td>Shiny Star(2020)</td>\n",
       "      <td>395848.0</td>\n",
       "    </tr>\n",
       "    <tr>\n",
       "      <th>3067</th>\n",
       "      <td>2020-12-20</td>\n",
       "      <td>10</td>\n",
       "      <td>Slightly Tipsy</td>\n",
       "      <td>391811.0</td>\n",
       "    </tr>\n",
       "  </tbody>\n",
       "</table>\n",
       "<p>3068 rows × 4 columns</p>\n",
       "</div>"
      ],
      "text/plain": [
       "           datum  mesto                              naslov  sifra_umetnika\n",
       "0     2015-01-11      1  December, 2014 (The Winter`s Tale)        352301.0\n",
       "1     2015-01-11      2                                 LUV        343777.0\n",
       "2     2015-01-11      3                              울면 안 돼        343790.0\n",
       "3     2015-01-11      4                           UP & DOWN        235496.0\n",
       "4     2015-01-11      5                      At Gwanghwamun        386080.0\n",
       "...          ...    ...                                 ...             ...\n",
       "3063  2020-12-20      6                         Given-Taken        395837.0\n",
       "3064  2020-12-20      7     Love should not be harsh on you        393964.0\n",
       "3065  2020-12-20      8                      Lovesick Girls        389341.0\n",
       "3066  2020-12-20      9                    Shiny Star(2020)        395848.0\n",
       "3067  2020-12-20     10                      Slightly Tipsy        391811.0\n",
       "\n",
       "[3068 rows x 4 columns]"
      ]
     },
     "execution_count": 1,
     "metadata": {},
     "output_type": "execute_result"
    }
   ],
   "source": [
    "import pandas as pd\n",
    "import matplotlib\n",
    "import os.path\n",
    "# ker bomo delali z velikimi razpredelnicami, povemo, da naj se vedno izpiše le 10 vrstic\n",
    "pd.options.display.max_rows = 10\n",
    "\n",
    "# razpredelnice, s katerimi bomo delali\n",
    "pesmi = pd.read_csv('obdelani-podatki/pesmi.csv')\n",
    "umetniki = pd.read_csv('obdelani-podatki/umetniki.csv', index_col='sifra_umetnika')\n",
    "zalozbe = pd.read_csv('obdelani-podatki/zalozbe.csv', index_col='sifra_umetnika')\n",
    "clani_skupin = pd.read_csv('obdelani-podatki/clani_skupin.csv', index_col='sifra_umetnika')\n",
    "\n",
    "pesmi"
   ]
  },
  {
   "cell_type": "markdown",
   "id": "423b11d2",
   "metadata": {},
   "source": [
    "Kot vidimo imamo v zgornji razpredelnici razvrščene posamezne pesmi po datumih, ko so nastopile na lestvici, zraven pa še podatek o mestu, ki ga je pesem takrat zasedala na lestvici, in šifra izvajalca, če so podatki o izvajalcu bili na voljo. Poglejmo koliko je takšnih manjkajočih podatkov."
   ]
  },
  {
   "cell_type": "code",
   "execution_count": 2,
   "id": "0425aa16",
   "metadata": {},
   "outputs": [
    {
     "data": {
      "text/plain": [
       "256"
      ]
     },
     "execution_count": 2,
     "metadata": {},
     "output_type": "execute_result"
    }
   ],
   "source": [
    "pesmi['sifra_umetnika'].size - pesmi['sifra_umetnika'].count()"
   ]
  },
  {
   "cell_type": "markdown",
   "id": "0a890210",
   "metadata": {},
   "source": [
    "Vidimo, da je takih primerov izredno malo, saj je približno 92% vnosov popolnih, torej lahko brez slabe vesti ugotavljamo lastnosti in trende lestvice.\n",
    "\n",
    "Spreten opazovalec je zagotovo zapazil, da je število vnešenih pesmi 3068, kar pa ni deljivo z 10 kot bi mi pričakovali. Poglejmo, v čem leži težava"
   ]
  },
  {
   "cell_type": "code",
   "execution_count": 3,
   "id": "276ed3c7",
   "metadata": {},
   "outputs": [
    {
     "data": {
      "text/plain": [
       "datum\n",
       "2017-01-29     9\n",
       "2019-03-31     9\n",
       "2019-01-27    10\n",
       "2019-01-20    10\n",
       "2019-01-13    10\n",
       "              ..\n",
       "2016-12-25    10\n",
       "2016-12-18    10\n",
       "2016-12-11    10\n",
       "2017-02-05    10\n",
       "2020-12-20    10\n",
       "Length: 307, dtype: int64"
      ]
     },
     "execution_count": 3,
     "metadata": {},
     "output_type": "execute_result"
    }
   ],
   "source": [
    "pesmi.groupby('datum').size().sort_values()"
   ]
  },
  {
   "cell_type": "markdown",
   "id": "c8a829c8",
   "metadata": {},
   "source": [
    "Izgleda, da pri dveh datumih program pobere le 9 pesmi namesto 10. Ob obisku ustreznih spletnih strani vidimo, da lestvica na teh dveh datumih zaobsega le 9 pesmi, za razliko od velike večine drugih datumov, ko jih zaobsega 10. Zakaj? Bog ve.\n",
    "\n",
    "Očitno je, da KBS-ovo spletno stran niso sprogramirali FMF-jevci, saj vsebuje 1001 nedoslednosti, zaradi katerih pride do težav pri pobiranju podatkov, kar je razvidno tudi iz števila različnih vzorcev HTML zapisa, preko katerih sem iskal podatke. V nadalje teh primerov ne bom posebno izpostavljal. Če opazite kakšno čudno lastnost obravnavanih podatkov, je najverjetneje to razlog."
   ]
  },
  {
   "cell_type": "markdown",
   "id": "e9ef1f74",
   "metadata": {},
   "source": [
    "# Analiza\n",
    "\n",
    "## Prvaki\n",
    "\n",
    "Očitno prvo vprašanje pri analizi je, katera pesem se je na lestvici pojavila največkrat in kateri umetniki so največkrat kraljevali na njej."
   ]
  },
  {
   "cell_type": "markdown",
   "id": "ebf83749",
   "metadata": {},
   "source": [
    "### Najbolj popularne pesmi"
   ]
  },
  {
   "cell_type": "code",
   "execution_count": 4,
   "id": "575362d7",
   "metadata": {},
   "outputs": [
    {
     "data": {
      "text/plain": [
       "<AxesSubplot:title={'center':'Top 10 pesmi po pojavitvah'}, ylabel='(Pesem, Umetnik)'>"
      ]
     },
     "execution_count": 4,
     "metadata": {},
     "output_type": "execute_result"
    },
    {
     "data": {
      "image/png": "[encoded data removed]",
      "text/plain": [
       "<Figure size 432x288 with 1 Axes>"
      ]
     },
     "metadata": {
      "needs_background": "light"
     },
     "output_type": "display_data"
    }
   ],
   "source": [
    "pesmi_z_umetniki_polno = pesmi.merge(umetniki, left_on='sifra_umetnika', right_on='sifra_umetnika')\n",
    "pesmi_z_umetniki = pesmi_z_umetniki_polno[['naslov', 'ime_umetnika']]\n",
    "pocisceno_za_graf = pesmi_z_umetniki.groupby(['naslov', 'ime_umetnika']).size().sort_values(ascending=False).head(10)\n",
    "\n",
    "pocisceno_za_graf.plot.barh(title='Top 10 pesmi po pojavitvah', xlabel='(Pesem, Umetnik)')"
   ]
  },
  {
   "cell_type": "markdown",
   "id": "82c1ed0f",
   "metadata": {},
   "source": [
    "Iz podatkov je razvidno, da je najboljša pesem [Boy With Luv](https://www.youtube.com/watch?v=XsX3ATc3FbA) izvajalca [BTS](https://en.wikipedia.org/wiki/BTS). Za vešče poznavalce kpop scene to ne bo nikakršno presenečenje, saj je ta pesem pravi mednarodni hit, ki je krepko presegel milijardo ogledov na YouTubu.\n",
    "\n",
    "Na drugem mestu mu sledi [Blueming](https://www.youtube.com/watch?v=D1PvIWdJ8xo) priznane solistke [IU](https://en.wikipedia.org/wiki/IU_(singer)), ki je med drugim znana po popolni dominaciji lestvic, kadarkoli izide kakšna njena pesem.\n",
    "\n",
    "Tretje mesto pa zaseda pesem [CHEER UP](https://www.youtube.com/watch?v=c7rCyll5AeY) glasbene skupine [TWICE](https://en.wikipedia.org/wiki/Twice). Tudi ta primerek ni presenetljiv, saj je TWICE glavna dekliška skupina gromozanske založbe JYP."
   ]
  },
  {
   "cell_type": "markdown",
   "id": "8e42283d",
   "metadata": {},
   "source": [
    "### Najbolj popularni umetniki"
   ]
  },
  {
   "cell_type": "code",
   "execution_count": 5,
   "id": "e1d61715",
   "metadata": {},
   "outputs": [
    {
     "data": {
      "text/plain": [
       "<AxesSubplot:ylabel='Umetnik'>"
      ]
     },
     "execution_count": 5,
     "metadata": {},
     "output_type": "execute_result"
    },
    {
     "data": {
      "image/png": "[encoded data removed]",
      "text/plain": [
       "<Figure size 432x288 with 1 Axes>"
      ]
     },
     "metadata": {
      "needs_background": "light"
     },
     "output_type": "display_data"
    }
   ],
   "source": [
    "pesmi_z_umetniki.groupby('ime_umetnika').size().sort_values(ascending=False).head(10).plot.barh(xlabel='Umetnik')"
   ]
  },
  {
   "cell_type": "markdown",
   "id": "532b0f2c",
   "metadata": {},
   "source": [
    "Vrh te kategorije zasedajo že prej omenjeni TWICE, IU in BTS. To nakazuje, da ti trije umetniki niso t. i. \"one-hit wonder\", temveč da konsistentno ustvarjajo kvalitetno glasbo."
   ]
  },
  {
   "cell_type": "markdown",
   "id": "6ba525fa",
   "metadata": {},
   "source": [
    "### Najbolj popularne založbe"
   ]
  },
  {
   "cell_type": "code",
   "execution_count": 6,
   "id": "834807bc",
   "metadata": {},
   "outputs": [
    {
     "data": {
      "text/plain": [
       "<AxesSubplot:ylabel='Založba'>"
      ]
     },
     "execution_count": 6,
     "metadata": {},
     "output_type": "execute_result"
    },
    {
     "data": {
      "image/png": "[encoded data removed]",
      "text/plain": [
       "<Figure size 432x288 with 1 Axes>"
      ]
     },
     "metadata": {
      "needs_background": "light"
     },
     "output_type": "display_data"
    }
   ],
   "source": [
    "zalozbe.groupby('zalozba').size().sort_values(ascending=False)\n",
    "pesmi_z_umetniki_in_zalozbami = pesmi_z_umetniki_polno.merge(zalozbe, left_on='sifra_umetnika', right_on='sifra_umetnika')\n",
    "pesmi_z_umetniki_in_zalozbami.groupby('zalozba').size().sort_values(ascending=False).head(10).plot.barh(xlabel='Založba')"
   ]
  },
  {
   "cell_type": "markdown",
   "id": "ff5640e3",
   "metadata": {},
   "source": [
    "Poznavalci sveta kpopa bodo zagotovo vedeli, da v tej industriji prevladujejo 3 gromozanske glasbene založbe, ki jih po angleško poimenujemo \"Big Three\". Te so: SM, JYP in YG. Iz podatkov je razvidna prevlada SM in JYP, vendar kaj pa YG? Zakaj se nahaja šele na 4. mestu za znamko Republic? \n",
    "\n",
    "Tukaj moramo upoštevati, da umetniki lahko pripadajo večim glasbenim založbam, kjer je pa vsaka usmerjena na promoviranje glasbe v različnem svetovnem trgu. SM, JYP in YG so vse korejske založbe, ki neposredno vplivajo na razvoj kpopa in ustvarjanju ter upravljanju s kpop umetniki znotraj Južne Koreje. Ob raziskovanju založbe Republic pa odkrijemo, da se le-ta nahaja v Združenih državah Amerike, torej je ta založba najverjetneje namenjena le izvozu glasbe v ZDA in druge države Zahoda, ne ukvarja se pa neposredno z razvijanjem žanra.\n",
    "\n",
    "Podobno velja tudi za Warner Music Japan, Universal Music Japan in Warner Music Taiwan. Naštete založbe so namenjene izvozu glasbe, dokazujejo pa tudi, da kpop ni popularen le znotraj Južne Koreje, vendar tudi na Japonskem in v Tajvanu."
   ]
  },
  {
   "cell_type": "markdown",
   "id": "16591c54",
   "metadata": {},
   "source": [
    "## Raziskovanje lastnosti lestvice\n",
    "\n",
    "V tem razdelku bomo pa raziskovali razne zanimive lastnosti te glasbene lestvice. Med drugim bomo analizirali pesmi glede na to, ali jih izvajajo solisti ali skupine. Pogledali si bomo kakšen tip umetnika je bolj pogost in povprečno mesto, ki ga posamezen tip umetnika zaseda na lestvici. Potem bomo bolj podrobno analiziralii starost umetnikov. Ali lestvico res zasedajo pretežno mlajši umetniki?"
   ]
  },
  {
   "cell_type": "markdown",
   "id": "cfa1d839",
   "metadata": {},
   "source": [
    "### Primerjava solistov in skupin"
   ]
  },
  {
   "cell_type": "code",
   "execution_count": 53,
   "id": "e343e574",
   "metadata": {},
   "outputs": [
    {
     "data": {
      "text/plain": [
       "<AxesSubplot:ylabel='Delež posameznega tipa umetnika'>"
      ]
     },
     "execution_count": 53,
     "metadata": {},
     "output_type": "execute_result"
    },
    {
     "data": {
      "image/png": "[encoded data removed]",
      "text/plain": [
       "<Figure size 432x288 with 1 Axes>"
      ]
     },
     "metadata": {},
     "output_type": "display_data"
    }
   ],
   "source": [
    "primerjava = pesmi_z_umetniki_polno.groupby('tip').size()\n",
    "primerjava = primerjava.rename(index={'SK': 'Skupine', 'SO': 'Solisti'})\n",
    "primerjava.plot.pie(ylabel='Delež posameznega tipa umetnika')"
   ]
  },
  {
   "cell_type": "markdown",
   "id": "ee0deb18",
   "metadata": {},
   "source": [
    "Tako kot na Zahodu, tudi na tej lestvici prevladujejo solisti, vendar pa je število skupin v kontrastu z Zahodnimi lestvicami kar znatno in le malo manjše od števila solistov. Je pa tukaj potrjeno splošno mnenje, da kpop lestvice zasedajo pretežno solisti. Kako se pa primerjata povprečno zasedeno mesto za posamezni tip umetnika?"
   ]
  },
  {
   "cell_type": "markdown",
   "id": "7b4c14bb",
   "metadata": {},
   "source": [
    "### Povprečno mesto na lestvici"
   ]
  },
  {
   "cell_type": "code",
   "execution_count": 54,
   "id": "adbe351c",
   "metadata": {},
   "outputs": [
    {
     "data": {
      "text/html": [
       "<div>\n",
       "<style scoped>\n",
       "    .dataframe tbody tr th:only-of-type {\n",
       "        vertical-align: middle;\n",
       "    }\n",
       "\n",
       "    .dataframe tbody tr th {\n",
       "        vertical-align: top;\n",
       "    }\n",
       "\n",
       "    .dataframe thead th {\n",
       "        text-align: right;\n",
       "    }\n",
       "</style>\n",
       "<table border=\"1\" class=\"dataframe\">\n",
       "  <thead>\n",
       "    <tr style=\"text-align: right;\">\n",
       "      <th></th>\n",
       "      <th>mesto</th>\n",
       "    </tr>\n",
       "    <tr>\n",
       "      <th>tip</th>\n",
       "      <th></th>\n",
       "    </tr>\n",
       "  </thead>\n",
       "  <tbody>\n",
       "    <tr>\n",
       "      <th>Skupine</th>\n",
       "      <td>5.200946</td>\n",
       "    </tr>\n",
       "    <tr>\n",
       "      <th>Solisti</th>\n",
       "      <td>5.693454</td>\n",
       "    </tr>\n",
       "  </tbody>\n",
       "</table>\n",
       "</div>"
      ],
      "text/plain": [
       "            mesto\n",
       "tip              \n",
       "Skupine  5.200946\n",
       "Solisti  5.693454"
      ]
     },
     "execution_count": 54,
     "metadata": {},
     "output_type": "execute_result"
    }
   ],
   "source": [
    "povprecno_mesto = pesmi_z_umetniki_polno[['mesto', 'tip']].groupby('tip').mean()\n",
    "povprecno_mesto = povprecno_mesto.rename(index={'SK': 'Skupine', 'SO': 'Solisti'})\n",
    "povprecno_mesto"
   ]
  },
  {
   "cell_type": "markdown",
   "id": "b9137462",
   "metadata": {},
   "source": [
    "Čeprav je skupin manj, te v povprečju dosegajo višje mesto. Razlika je sicer majhna, vendar pa lahko iz teh podatkov sklepamo, da so pesmi skupin v splošnem rahlo bolj popularne od pesmi solistov."
   ]
  },
  {
   "cell_type": "markdown",
   "id": "77e1ee8c",
   "metadata": {},
   "source": [
    "### Število članov in mesto na lestvici"
   ]
  },
  {
   "cell_type": "code",
   "execution_count": 9,
   "id": "aa74a5bf",
   "metadata": {},
   "outputs": [
    {
     "data": {
      "text/plain": [
       "<AxesSubplot:xlabel='Št. članov', ylabel='Najvišje doseženo mesto'>"
      ]
     },
     "execution_count": 9,
     "metadata": {},
     "output_type": "execute_result"
    },
    {
     "data": {
      "image/png": "[encoded data removed]",
      "text/plain": [
       "<Figure size 432x288 with 1 Axes>"
      ]
     },
     "metadata": {
      "needs_background": "light"
     },
     "output_type": "display_data"
    }
   ],
   "source": [
    "pesmi_skupine = pesmi_z_umetniki_polno[pesmi_z_umetniki_polno['tip'] == 'SK']\n",
    "pesmi_skupine = pesmi_skupine.merge(clani_skupin, left_on='sifra_umetnika', right_on='sifra_umetnika')\n",
    "pesmi_skupine = pesmi_skupine[['datum', 'ime_umetnika', 'mesto', 'naslov', 'clan']]\n",
    "najvisje_zasedeno_mesto = pesmi_skupine.groupby('naslov').min('mesto')\n",
    "najvisje_zasedeno_mesto = najvisje_zasedeno_mesto.rename(columns={'mesto': 'najvisje_mesto'})\n",
    "pesmi_skupine = pesmi_skupine.merge(najvisje_zasedeno_mesto, left_on='naslov', right_on='naslov')\n",
    "pesmi_skupine = pesmi_skupine.drop(columns='mesto')\n",
    "pesmi_skupine = pesmi_skupine.groupby(['datum', 'ime_umetnika', 'naslov', 'najvisje_mesto']).count()\n",
    "pesmi_skupine.reset_index()[['najvisje_mesto', 'clan']].plot.scatter(x='clan', y='najvisje_mesto', xlabel='Št. članov', ylabel='Najvišje doseženo mesto')"
   ]
  },
  {
   "cell_type": "markdown",
   "id": "6ef81395",
   "metadata": {},
   "source": [
    "Kot je razvidno iz grafa, ne obstaja nobene korelacije med številom članov in največjo doseženo pozicijo na lestvici. To je bilo tudi za pričakovati, saj nas po navadi pri poslušanje glasbe ne briga, koliko ljudi je notri prisotnih. Iz teh podatkov pa lahko še razberemo, da so korejske glasbene skupine lahko po številu članov kar ogromne v primerjavi s tem, kar smo mi navajeni na Zahodu. Največja trenutno aktivna kpop skupina ima kar 23 članov."
   ]
  },
  {
   "cell_type": "markdown",
   "id": "6e51e9a7",
   "metadata": {},
   "source": [
    "### Starost umetnikov\n",
    "\n",
    "Z besedno zvezo \"starost umetnikov\" tukaj mislimo število let, ki je minilo, odkar so umetniki debitirali, do datuma, ko je njihova pesem prišla na lestvico. Svet kpopa je pogosto krut in mnogi umetniki so uspešni le za kratek čas, mogoče le za par let preden so vrženi v pogubo. V tem oddelku bomo pogledali, če se ta fenomen odraža tudi v zbranih podatkih."
   ]
  },
  {
   "cell_type": "code",
   "execution_count": 40,
   "id": "d77cdb01",
   "metadata": {},
   "outputs": [
    {
     "data": {
      "text/html": [
       "<div>\n",
       "<style scoped>\n",
       "    .dataframe tbody tr th:only-of-type {\n",
       "        vertical-align: middle;\n",
       "    }\n",
       "\n",
       "    .dataframe tbody tr th {\n",
       "        vertical-align: top;\n",
       "    }\n",
       "\n",
       "    .dataframe thead th {\n",
       "        text-align: right;\n",
       "    }\n",
       "</style>\n",
       "<table border=\"1\" class=\"dataframe\">\n",
       "  <thead>\n",
       "    <tr style=\"text-align: right;\">\n",
       "      <th></th>\n",
       "      <th>sifra_umetnika</th>\n",
       "      <th>starost</th>\n",
       "      <th>tip</th>\n",
       "    </tr>\n",
       "  </thead>\n",
       "  <tbody>\n",
       "    <tr>\n",
       "      <th>2746</th>\n",
       "      <td>368849.0</td>\n",
       "      <td>-1.0</td>\n",
       "      <td>SK</td>\n",
       "    </tr>\n",
       "    <tr>\n",
       "      <th>2018</th>\n",
       "      <td>239348.0</td>\n",
       "      <td>0.0</td>\n",
       "      <td>SK</td>\n",
       "    </tr>\n",
       "    <tr>\n",
       "      <th>2533</th>\n",
       "      <td>351072.0</td>\n",
       "      <td>0.0</td>\n",
       "      <td>SO</td>\n",
       "    </tr>\n",
       "    <tr>\n",
       "      <th>2532</th>\n",
       "      <td>351072.0</td>\n",
       "      <td>0.0</td>\n",
       "      <td>SO</td>\n",
       "    </tr>\n",
       "    <tr>\n",
       "      <th>2531</th>\n",
       "      <td>351072.0</td>\n",
       "      <td>0.0</td>\n",
       "      <td>SO</td>\n",
       "    </tr>\n",
       "    <tr>\n",
       "      <th>2491</th>\n",
       "      <td>347386.0</td>\n",
       "      <td>0.0</td>\n",
       "      <td>SO</td>\n",
       "    </tr>\n",
       "    <tr>\n",
       "      <th>2490</th>\n",
       "      <td>347386.0</td>\n",
       "      <td>0.0</td>\n",
       "      <td>SO</td>\n",
       "    </tr>\n",
       "    <tr>\n",
       "      <th>1812</th>\n",
       "      <td>239165.0</td>\n",
       "      <td>0.0</td>\n",
       "      <td>SO</td>\n",
       "    </tr>\n",
       "    <tr>\n",
       "      <th>1811</th>\n",
       "      <td>239165.0</td>\n",
       "      <td>0.0</td>\n",
       "      <td>SO</td>\n",
       "    </tr>\n",
       "    <tr>\n",
       "      <th>2119</th>\n",
       "      <td>239455.0</td>\n",
       "      <td>0.0</td>\n",
       "      <td>SO</td>\n",
       "    </tr>\n",
       "  </tbody>\n",
       "</table>\n",
       "</div>"
      ],
      "text/plain": [
       "      sifra_umetnika  starost tip\n",
       "2746        368849.0     -1.0  SK\n",
       "2018        239348.0      0.0  SK\n",
       "2533        351072.0      0.0  SO\n",
       "2532        351072.0      0.0  SO\n",
       "2531        351072.0      0.0  SO\n",
       "2491        347386.0      0.0  SO\n",
       "2490        347386.0      0.0  SO\n",
       "1812        239165.0      0.0  SO\n",
       "1811        239165.0      0.0  SO\n",
       "2119        239455.0      0.0  SO"
      ]
     },
     "execution_count": 40,
     "metadata": {},
     "output_type": "execute_result"
    }
   ],
   "source": [
    "def izlusci_leto(datum):\n",
    "    return int(datum[:4])\n",
    "\n",
    "pesmi_z_umetniki_polno['starost'] = pesmi_z_umetniki_polno['datum'].apply(izlusci_leto) - pesmi_z_umetniki_polno['debut']\n",
    "starosti = pesmi_z_umetniki_polno[['sifra_umetnika', 'starost', 'tip']].dropna().sort_values('starost')\n",
    "starosti.head(10)"
   ]
  },
  {
   "cell_type": "code",
   "execution_count": 38,
   "id": "6a893025",
   "metadata": {},
   "outputs": [
    {
     "data": {
      "text/html": [
       "<div>\n",
       "<style scoped>\n",
       "    .dataframe tbody tr th:only-of-type {\n",
       "        vertical-align: middle;\n",
       "    }\n",
       "\n",
       "    .dataframe tbody tr th {\n",
       "        vertical-align: top;\n",
       "    }\n",
       "\n",
       "    .dataframe thead th {\n",
       "        text-align: right;\n",
       "    }\n",
       "</style>\n",
       "<table border=\"1\" class=\"dataframe\">\n",
       "  <thead>\n",
       "    <tr style=\"text-align: right;\">\n",
       "      <th></th>\n",
       "      <th>sifra_umetnika</th>\n",
       "      <th>starost</th>\n",
       "      <th>tip</th>\n",
       "    </tr>\n",
       "  </thead>\n",
       "  <tbody>\n",
       "    <tr>\n",
       "      <th>1184</th>\n",
       "      <td>393964.0</td>\n",
       "      <td>28.0</td>\n",
       "      <td>SO</td>\n",
       "    </tr>\n",
       "    <tr>\n",
       "      <th>1183</th>\n",
       "      <td>393964.0</td>\n",
       "      <td>28.0</td>\n",
       "      <td>SO</td>\n",
       "    </tr>\n",
       "    <tr>\n",
       "      <th>1182</th>\n",
       "      <td>393964.0</td>\n",
       "      <td>28.0</td>\n",
       "      <td>SO</td>\n",
       "    </tr>\n",
       "    <tr>\n",
       "      <th>1188</th>\n",
       "      <td>393964.0</td>\n",
       "      <td>30.0</td>\n",
       "      <td>SO</td>\n",
       "    </tr>\n",
       "    <tr>\n",
       "      <th>1185</th>\n",
       "      <td>393964.0</td>\n",
       "      <td>30.0</td>\n",
       "      <td>SO</td>\n",
       "    </tr>\n",
       "    <tr>\n",
       "      <th>1186</th>\n",
       "      <td>393964.0</td>\n",
       "      <td>30.0</td>\n",
       "      <td>SO</td>\n",
       "    </tr>\n",
       "    <tr>\n",
       "      <th>1187</th>\n",
       "      <td>393964.0</td>\n",
       "      <td>30.0</td>\n",
       "      <td>SO</td>\n",
       "    </tr>\n",
       "    <tr>\n",
       "      <th>1191</th>\n",
       "      <td>393964.0</td>\n",
       "      <td>30.0</td>\n",
       "      <td>SO</td>\n",
       "    </tr>\n",
       "    <tr>\n",
       "      <th>1189</th>\n",
       "      <td>393964.0</td>\n",
       "      <td>30.0</td>\n",
       "      <td>SO</td>\n",
       "    </tr>\n",
       "    <tr>\n",
       "      <th>1190</th>\n",
       "      <td>393964.0</td>\n",
       "      <td>30.0</td>\n",
       "      <td>SO</td>\n",
       "    </tr>\n",
       "  </tbody>\n",
       "</table>\n",
       "</div>"
      ],
      "text/plain": [
       "      sifra_umetnika  starost tip\n",
       "1184        393964.0     28.0  SO\n",
       "1183        393964.0     28.0  SO\n",
       "1182        393964.0     28.0  SO\n",
       "1188        393964.0     30.0  SO\n",
       "1185        393964.0     30.0  SO\n",
       "1186        393964.0     30.0  SO\n",
       "1187        393964.0     30.0  SO\n",
       "1191        393964.0     30.0  SO\n",
       "1189        393964.0     30.0  SO\n",
       "1190        393964.0     30.0  SO"
      ]
     },
     "execution_count": 38,
     "metadata": {},
     "output_type": "execute_result"
    }
   ],
   "source": [
    "starosti.tail(10)"
   ]
  },
  {
   "cell_type": "code",
   "execution_count": 34,
   "id": "66ccc32b",
   "metadata": {},
   "outputs": [
    {
     "data": {
      "text/plain": [
       "<AxesSubplot:>"
      ]
     },
     "execution_count": 34,
     "metadata": {},
     "output_type": "execute_result"
    },
    {
     "data": {
      "image/png": "[encoded data removed]",
      "text/plain": [
       "<Figure size 432x288 with 1 Axes>"
      ]
     },
     "metadata": {
      "needs_background": "light"
     },
     "output_type": "display_data"
    }
   ],
   "source": [
    "starosti['starost'].plot.box()"
   ]
  },
  {
   "cell_type": "markdown",
   "id": "776185f8",
   "metadata": {},
   "source": [
    "Iz zgornjih podatkov vidimo, da je kar nekaj umetnikov prišlo na lestvico že isto leto, kot so debitirali. Še bolj impresivno je, da obstaja nek čudež od glasbenika, ki je prišel na lestvico celo leto preden je sploh debitiral. Šalo na stran, ob obiskanju njegove spletne strani lahko vidimo, da je datum debitiranja nastavljen na 2020, čeprav bi v resnici moral biti 2019. Gre torej za napačen podatek s strani KBS-a.\n",
    "\n",
    "Vidimo pa tudi, da je kar nekaj umetnikov, ki so na glasbeni sceni že kar dolgo časa. Nekateri so vstopili v svet glasbe že v prazgodovinskih 1990-ih! V nadaljevanju bomo videli, da ni naključje, da so vsi najstarejši umetniki, ki so tukaj prikazani, solisti. Splošno znanje je, da so le-ti najbolj obstojni umetniki znotraj kpopa.\n",
    "\n",
    "Škatlasti diagram nam pa zelo nazorno pove, da je velika večina umetnikov na sceni manj kot 10 let. \n",
    "\n",
    "Poglejmo si še par povprečij."
   ]
  },
  {
   "cell_type": "code",
   "execution_count": 46,
   "id": "17ed6d9b",
   "metadata": {},
   "outputs": [
    {
     "data": {
      "text/plain": [
       "6.580657206870799"
      ]
     },
     "execution_count": 46,
     "metadata": {},
     "output_type": "execute_result"
    }
   ],
   "source": [
    "starosti['starost'].mean()"
   ]
  },
  {
   "cell_type": "code",
   "execution_count": 55,
   "id": "5abb247e",
   "metadata": {},
   "outputs": [
    {
     "data": {
      "text/plain": [
       "tip\n",
       "Skupine    4.440504\n",
       "Solisti    8.508162\n",
       "Name: starost, dtype: float64"
      ]
     },
     "execution_count": 55,
     "metadata": {},
     "output_type": "execute_result"
    }
   ],
   "source": [
    "starosti_po_tipu = starosti.groupby('tip').mean()['starost']\n",
    "starosti_po_tipu.rename(index={'SK': 'Skupine', 'SO': 'Solisti'})"
   ]
  },
  {
   "cell_type": "markdown",
   "id": "ee1045ee",
   "metadata": {},
   "source": [
    "Vidimo, da je povprečna starost približno 6,6. To sicer ni pretirano zanimivo, dokler se ne poglobimo v primerjavo med solisti in skupinami. Iz podatkov je razvidna gromozanska razlika med povprečno starostjo skupin in solistov. Slednji so namreč v povprečju skoraj dvakrat starejši. \n",
    "\n",
    "Te opazke so pa skladne z intuitivnimi opazkami med oboževalci kpopa. Očitno je za skupine značilen bolj hiter vzpon popularnosti in prav tako hiter zaton, medtem ko pa je solistom omogočena bolj dolgotrajna kariera."
   ]
  },
  {
   "cell_type": "markdown",
   "id": "56890078",
   "metadata": {},
   "source": [
    "# Zaključek\n",
    "\n",
    "S tem pa končujemo našo analizo. Upam, da je bralec dobil poglobljen vpogled v svet korejskega popa, se marsikaj novega naučil in morda le tudi dobil motivacijo za samostojno raziskovanje tega žanra. Kpop namreč ni le žanr, ampak tudi fascinanten sociološki pojav, ki počasi zavzema svet."
   ]
  }
 ],
 "metadata": {
  "kernelspec": {
   "display_name": "Python 3 (ipykernel)",
   "language": "python",
   "name": "python3"
  },
  "language_info": {
   "codemirror_mode": {
    "name": "ipython",
    "version": 3
   },
   "file_extension": ".py",
   "mimetype": "text/x-python",
   "name": "python",
   "nbconvert_exporter": "python",
   "pygments_lexer": "ipython3",
   "version": "3.9.7"
  }
 },
 "nbformat": 4,
 "nbformat_minor": 5
}
